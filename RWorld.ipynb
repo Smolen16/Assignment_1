{
 "cells": [
  {
   "cell_type": "code",
   "execution_count": 1,
   "id": "a686df9b-9c36-46b9-8fc0-ca9b54e7d635",
   "metadata": {},
   "outputs": [
    {
     "name": "stdout",
     "output_type": "stream",
     "text": [
      "[1] \"Hello, World\"\n",
      "Hello, World!\n"
     ]
    }
   ],
   "source": [
    "#!/usr/bin/env Rscript\n",
    "print(\"Hello, World\")\n",
    "cat(\"Hello, World!\\n\")"
   ]
  },
  {
   "cell_type": "code",
   "execution_count": null,
   "id": "7edfbf77-36b9-4ffd-b823-589f3f6ff6cc",
   "metadata": {},
   "outputs": [],
   "source": []
  }
 ],
 "metadata": {
  "kernelspec": {
   "display_name": "R",
   "language": "R",
   "name": "ir"
  },
  "language_info": {
   "codemirror_mode": "r",
   "file_extension": ".r",
   "mimetype": "text/x-r-source",
   "name": "R",
   "pygments_lexer": "r",
   "version": "4.4.3"
  }
 },
 "nbformat": 4,
 "nbformat_minor": 5
}
